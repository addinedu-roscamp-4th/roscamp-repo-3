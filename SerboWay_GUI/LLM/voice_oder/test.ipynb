{
 "cells": [
  {
   "cell_type": "code",
   "execution_count": 1,
   "id": "b4357a1a",
   "metadata": {},
   "outputs": [
    {
     "data": {
      "text/plain": [
       "True"
      ]
     },
     "execution_count": 1,
     "metadata": {},
     "output_type": "execute_result"
    }
   ],
   "source": [
    "# API key를 환경변수로 관리하기 위한 설정 파일\n",
    "from dotenv import load_dotenv\n",
    "\n",
    "# API Key 정보 로드\n",
    "load_dotenv()"
   ]
  },
  {
   "cell_type": "code",
   "execution_count": 2,
   "id": "d06e7deb",
   "metadata": {},
   "outputs": [
    {
     "name": "stdout",
     "output_type": "stream",
     "text": [
      "LangSmith 추적을 시작합니다.\n",
      "[프로젝트명]\n",
      "Voice agent\n"
     ]
    }
   ],
   "source": [
    "# LangSmith 추적 허용\n",
    "from langchain_teddynote import logging\n",
    "\n",
    "# projetct name\n",
    "logging.langsmith(\"Voice agent\")"
   ]
  },
  {
   "cell_type": "code",
   "execution_count": 3,
   "id": "80314219",
   "metadata": {},
   "outputs": [],
   "source": [
    "import warnings\n",
    "\n",
    "warnings.filterwarnings(\"ignore\")"
   ]
  },
  {
   "cell_type": "markdown",
   "id": "6bb8f686",
   "metadata": {},
   "source": [
    "**상담사 역할 정의**\n",
    "시뮬레이션에서 상담사 역할을 하는 챗봇을 정의합니다.\n",
    "\n",
    "참고\n",
    "\n",
    "* call_chatbot 내의 구현은 설정 가능하며, 내부에서 사용한 모델을 Agent 로 변경하는 것도 가능합니다.\n",
    "* call_chatbot 은 사용자로부터 메시지를 입력으로 받아, 고객을 상담하는 역할을 부여하겠습니다.\n",
    "* 고객 지원 시나리오에서의 대화 응답 생성에 활용될 수 있습니다."
   ]
  },
  {
   "cell_type": "code",
   "execution_count": 4,
   "id": "89026e7c",
   "metadata": {},
   "outputs": [],
   "source": [
    "from langgraph.graph.message import add_messages  \n",
    "from typing import Annotated  \n",
    "from typing_extensions import TypedDict  \n",
    "\n",
    "\n",
    "# State 정의  \n",
    "class State(TypedDict):  \n",
    "    messages: Annotated[list, add_messages]  # 사용자 - 상담사 간의 대화 메시지  "
   ]
  },
  {
   "cell_type": "markdown",
   "id": "68365938",
   "metadata": {},
   "source": [
    "## 상담사 역할 정의"
   ]
  },
  {
   "cell_type": "code",
   "execution_count": 5,
   "id": "314c6db7",
   "metadata": {},
   "outputs": [],
   "source": [
    "from typing import List\n",
    "from langchain_teddynote.models import LLMs, get_model_name\n",
    "from langchain_core.prompts import ChatPromptTemplate, MessagesPlaceholder  # 수정: ChatPromptTemplate 추가\n",
    "from langchain_core.messages import HumanMessage, AIMessage, BaseMessage\n",
    "from langchain_core.output_parsers import StrOutputParser\n",
    "from langchain_openai import ChatOpenAI  # 추가: ChatOpenAI import\n",
    "\n",
    "# model name (임시 테스트)\n",
    "MODEL_NAME = \"gpt-3.5-turbo\"  # get_model_name(LLMs) 대신 직접 지정\n",
    "\n",
    "def call_chatbot(messages: List[BaseMessage]) -> dict:\n",
    "    # 프롬프트 템플릿 설정\n",
    "    prompt = ChatPromptTemplate.from_messages(\n",
    "        [\n",
    "            (\"system\", \"You're a system that takes orders from Servoway, Answer in Korean\"),\n",
    "            MessagesPlaceholder(variable_name=\"messages\")\n",
    "        ]\n",
    "    )\n",
    "    # 모델 초기화 (오타 수정)\n",
    "    model = ChatOpenAI(model=MODEL_NAME, temperature=0.6)\n",
    "    # 체인 구성\n",
    "    chain = prompt | model | StrOutputParser()\n",
    "    # 실행\n",
    "    return chain.invoke({\"messages\": messages})  # 수정: \"message\" → \"messages\"\n"
   ]
  },
  {
   "cell_type": "code",
   "execution_count": 6,
   "id": "fb63f89c",
   "metadata": {},
   "outputs": [
    {
     "name": "stderr",
     "output_type": "stream",
     "text": [
      "Failed to multipart ingest runs: langsmith.utils.LangSmithError: Failed to POST https://api.smith.langchain.com/runs/multipart in LangSmith API. HTTPError('403 Client Error: Forbidden for url: https://api.smith.langchain.com/runs/multipart', '{\"error\":\"Forbidden\"}\\n')\n"
     ]
    },
    {
     "data": {
      "text/plain": [
       "'알겠습니다. 어떤 종류의 샌드위치를 주문하시겠습니까?'"
      ]
     },
     "execution_count": 6,
     "metadata": {},
     "output_type": "execute_result"
    },
    {
     "name": "stderr",
     "output_type": "stream",
     "text": [
      "Failed to send compressed multipart ingest: langsmith.utils.LangSmithError: Failed to POST https://api.smith.langchain.com/runs/multipart in LangSmith API. HTTPError('403 Client Error: Forbidden for url: https://api.smith.langchain.com/runs/multipart', '{\"error\":\"Forbidden\"}\\n')\n",
      "Failed to send compressed multipart ingest: langsmith.utils.LangSmithError: Failed to POST https://api.smith.langchain.com/runs/multipart in LangSmith API. HTTPError('403 Client Error: Forbidden for url: https://api.smith.langchain.com/runs/multipart', '{\"error\":\"Forbidden\"}\\n')\n",
      "Failed to send compressed multipart ingest: langsmith.utils.LangSmithError: Failed to POST https://api.smith.langchain.com/runs/multipart in LangSmith API. HTTPError('403 Client Error: Forbidden for url: https://api.smith.langchain.com/runs/multipart', '{\"error\":\"Forbidden\"}\\n')\n",
      "Failed to send compressed multipart ingest: langsmith.utils.LangSmithError: Failed to POST https://api.smith.langchain.com/runs/multipart in LangSmith API. HTTPError('403 Client Error: Forbidden for url: https://api.smith.langchain.com/runs/multipart', '{\"error\":\"Forbidden\"}\\n')\n",
      "Failed to send compressed multipart ingest: langsmith.utils.LangSmithError: Failed to POST https://api.smith.langchain.com/runs/multipart in LangSmith API. HTTPError('403 Client Error: Forbidden for url: https://api.smith.langchain.com/runs/multipart', '{\"error\":\"Forbidden\"}\\n')\n"
     ]
    }
   ],
   "source": [
    "call_chatbot([\"user\", \"샌드위치 한 개 주세요\"])"
   ]
  },
  {
   "cell_type": "markdown",
   "id": "a9fd8ae3",
   "metadata": {},
   "source": [
    "## 고객 역할 정의"
   ]
  },
  {
   "cell_type": "code",
   "execution_count": 7,
   "id": "4b9db87c",
   "metadata": {},
   "outputs": [],
   "source": [
    "from langchain_core.prompts import ChatPromptTemplate, MessagesPlaceholder\n",
    "from langchain_openai import ChatOpenAI\n",
    "\n",
    "def create_scenario(name:str, instructions:str):\n",
    "    # system 프롬프트를 정의: 필요에 따라 변경\n",
    "    system_prompt_template = \"\"\" 당신은 서보웨이의 고객입니다.\n",
    "    단일 샌드위치를 주문할 수 있고, 햄, 치즈, 양사추를 3개 제한으로 추가할 수 있습니다.\n",
    "\n",
    "    [중요]\n",
    "    - 주문과 관련된 대답만 해야합니다.\n",
    "    - 한국어로 대화를 해야 합니다.\n",
    "\"\"\"\n",
    "    prompt = ChatPromptTemplate.from_messages(\n",
    "        [\n",
    "            (\"system\", system_prompt_template),\n",
    "            MessagesPlaceholder(variable_name=\"messages\"),\n",
    "        ]\n",
    "    )\n",
    "\n",
    "    prompt = prompt.partial(name=name, instructions=instructions)\n",
    "    return prompt"
   ]
  },
  {
   "cell_type": "code",
   "execution_count": 8,
   "id": "1d3b89e1",
   "metadata": {},
   "outputs": [
    {
     "name": "stdout",
     "output_type": "stream",
     "text": [
      "================================\u001b[1m System Message \u001b[0m================================\n",
      "\n",
      " 당신은 서보웨이의 고객입니다.\n",
      "    단일 샌드위치를 주문할 수 있고, 햄, 치즈, 양사추를 3개 제한으로 추가할 수 있습니다.\n",
      "\n",
      "    [중요]\n",
      "    - 주문과 관련된 대답만 해야합니다.\n",
      "    - 한국어로 대화를 해야 합니다.\n",
      "\n",
      "\n",
      "=============================\u001b[1m Messages Placeholder \u001b[0m=============================\n",
      "\n",
      "\u001b[33;1m\u001b[1;3m{messages}\u001b[0m\n"
     ]
    }
   ],
   "source": [
    "# 사용자 지시사항을 정의합니다.  \n",
    "instructions = \"\"\"당신은 서보웨이 고객입니다.\n",
    "- 단일 샌드위치를 주문하세요.\n",
    "- 추가 재료(햄, 치즈, 양상추)는 각 3개까지 선택할 수 있습니다.\n",
    "- 주문과 관련된 대답만 하세요.\n",
    "- 모든 대화는 한국어로 하세요.\"\"\"  \n",
    "\n",
    "# 사용자 이름을 정의합니다.  \n",
    "name = \"Serbo\"  \n",
    "\n",
    "create_scenario(name, instructions).pretty_print()  "
   ]
  },
  {
   "cell_type": "code",
   "execution_count": 9,
   "id": "cef1ad71",
   "metadata": {},
   "outputs": [],
   "source": [
    "# OpenAI chatbot init\n",
    "model = ChatOpenAI(model=MODEL_NAME, temperature=0.1)\n",
    "\n",
    "# 시뮬레이션된 사용자 대화를 생성합니다.\n",
    "simulated_user = create_scenario(name, instructions) | model | StrOutputParser()"
   ]
  },
  {
   "cell_type": "code",
   "execution_count": 10,
   "id": "a1965751",
   "metadata": {},
   "outputs": [
    {
     "data": {
      "text/plain": [
       "'한 개의 샌드위치를 주문하고 싶습니다. 가능한 재료는 무엇인가요?'"
      ]
     },
     "execution_count": 10,
     "metadata": {},
     "output_type": "execute_result"
    }
   ],
   "source": [
    "from langchain_core.messages import HumanMessage  \n",
    "\n",
    "# 시뮬레이션된 사용자에게 메시지를 전달  \n",
    "messages = [HumanMessage(content=\"안녕하세요? 어떻게 도와 드릴까요?\")]  \n",
    "simulated_user.invoke({\"messages\": messages})  \n"
   ]
  },
  {
   "cell_type": "markdown",
   "id": "a273241e",
   "metadata": {},
   "source": [
    "## 노드 정의"
   ]
  },
  {
   "cell_type": "code",
   "execution_count": 11,
   "id": "97cfc671",
   "metadata": {},
   "outputs": [],
   "source": [
    "from langchain_core.messages import AIMessage\n",
    "\n",
    "# 상담사 역할\n",
    "def ai_assistant_node(messages):\n",
    "    # 상담사 응답 호출\n",
    "    ai_response = call_chatbot(messages)\n",
    "\n",
    "    #AI 상담사의 응답을 반환\n",
    "    return {\"messages\": [(\"assistant\", ai_response)]}"
   ]
  },
  {
   "cell_type": "markdown",
   "id": "95d88224",
   "metadata": {},
   "source": [
    "### 상담사 역할의 노드를 호출"
   ]
  },
  {
   "cell_type": "code",
   "execution_count": 15,
   "id": "4b69e66e",
   "metadata": {},
   "outputs": [
    {
     "data": {
      "text/plain": [
       "{'messages': [('assistant', '주문하실 음식이나 상품을 말씀해주세요. 어떤 것을 주문하시겠어요?')]}"
      ]
     },
     "execution_count": 15,
     "metadata": {},
     "output_type": "execute_result"
    }
   ],
   "source": [
    "ai_assistant_node(  \n",
    "    [  \n",
    "        (\"user\", \"안녕하세요?\"),  \n",
    "        (\"assistant\", \"안녕하세요! 어떻게 도와드릴까요?\"),  \n",
    "        (\"user\", \"주문은 어떻게 하나요??\"),  \n",
    "    ]  \n",
    ")  "
   ]
  },
  {
   "cell_type": "code",
   "execution_count": null,
   "id": "e5c6b1d4",
   "metadata": {},
   "outputs": [],
   "source": []
  }
 ],
 "metadata": {
  "kernelspec": {
   "display_name": "langchain_venv",
   "language": "python",
   "name": "python3"
  },
  "language_info": {
   "codemirror_mode": {
    "name": "ipython",
    "version": 3
   },
   "file_extension": ".py",
   "mimetype": "text/x-python",
   "name": "python",
   "nbconvert_exporter": "python",
   "pygments_lexer": "ipython3",
   "version": "3.12.3"
  }
 },
 "nbformat": 4,
 "nbformat_minor": 5
}
